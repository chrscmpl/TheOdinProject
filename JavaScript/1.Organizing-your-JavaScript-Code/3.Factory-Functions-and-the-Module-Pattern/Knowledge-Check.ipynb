{
 "cells": [
  {
   "cell_type": "markdown",
   "metadata": {},
   "source": [
    "## **Describe common bugs you might run into using constructors.**\n",
    "\n",
    "- Not a bug but I might accidentally call the constructor without using the new keyword polluting the global scope.\n",
    "- Changing the prototype of the constructor breaks `instanceof`.\n",
    "- Calling `instanceof` with on an object created using a constructor and another constructor sharing the same prototype as the object's constructor returns true.\n",
    "- Changing the constructor's prototype breaks the constructor property for all objects created after the change."
   ]
  },
  {
   "cell_type": "markdown",
   "metadata": {},
   "source": [
    "## **Write a factory method that returns an object.**"
   ]
  },
  {
   "cell_type": "code",
   "execution_count": 1,
   "metadata": {},
   "outputs": [
    {
     "name": "stdout",
     "output_type": "stream",
     "text": [
      "{ name: 'John', greet: [Function: greet] }\n",
      "Hi, I am John\n"
     ]
    }
   ],
   "source": [
    "const createPerson = function (name) {\n",
    "\treturn {\n",
    "\t name: name,\n",
    "\t greet: function () {\n",
    "\t\tconsole.log(`Hi, I am ${this.name}`);\n",
    "\t },\n",
    "\t};\n",
    " };\n",
    "\n",
    " const john = createPerson('John');\n",
    " console.log(john);\n",
    " john.greet();"
   ]
  },
  {
   "cell_type": "markdown",
   "metadata": {},
   "source": [
    "## **Explain how scope works in JavaScript (bonus points if you can point out what ES6 changed!).**\n",
    "\n",
    "Before `let` and `const` variables in JavaScript were function scoped, meaning that if they are declared inside a function, they are only accessible in that function or in functions inside of that function. Variables declared outside of functions are global and accessible everywhere in the code.\n",
    "`let` and `const` variables are instead block scoped, meaning that the same rules that applied for functions also apply for any conditional statements of loops, like `if`, `else` and `switch` statements, `while`, `do while` and `for` loops."
   ]
  },
  {
   "cell_type": "markdown",
   "metadata": {},
   "source": [
    "## **Explain what Closure is and how it impacts private functions & variables.**\n",
    "\n",
    "Closure if the ability of functions to be able to access variables inside the scope they were created in indefinitely, even after the function they were created in returns.\n",
    "\n",
    "This makes it so that, if a function is using a variable or calling a method inside of it's scope, not accessible from the outside, and we somehow return the function, making it available from the outside, we will not have access to the variable/method, but the function will, and that is how private variables and methods are created in JavaScript."
   ]
  },
  {
   "cell_type": "markdown",
   "metadata": {},
   "source": [
    "## **Describe how private functions & variables are useful.**\n",
    "\n",
    "They allow us to implement encapsulation and checking for our variables using setters and getters, and they allow us to construct interfaces in which we supply the users only of what they need to use, and not what the object needs internally to function."
   ]
  },
  {
   "cell_type": "markdown",
   "metadata": {},
   "source": [
    "## **Use inheritance in objects using the factory pattern.**"
   ]
  },
  {
   "cell_type": "code",
   "execution_count": 2,
   "metadata": {},
   "outputs": [
    {
     "name": "stdout",
     "output_type": "stream",
     "text": [
      "Hi, I am Kate and I am 62 years old\n"
     ]
    }
   ],
   "source": [
    "const proto = {\n",
    "\tgreet: function () {\n",
    "\t console.log(`Hi, I am ${this.name} and I am ${this.getAge()} years old`);\n",
    "\t},\n",
    "\tmethod2: function () {},\n",
    " };\n",
    " \n",
    " //age is private and we need to define whatever getter and setter for the function\n",
    " //inside of the object itself, as prototypes cannot access private variables\n",
    " const personFactory = function (name, age) {\n",
    "\t// const obj = Object.create(proto);\n",
    "\t// obj.name = name;\n",
    "\t// obj.getAge = () => age;\n",
    "\t// return obj;\n",
    "\treturn Object.assign(Object.create(proto), { name: name, getAge: () => age });\n",
    " };\n",
    "\n",
    " const kate = personFactory('Kate', 62);\n",
    "\n",
    " kate.greet();"
   ]
  },
  {
   "cell_type": "markdown",
   "metadata": {},
   "source": [
    "## **Explain the module pattern.**\n",
    "\n",
    "The module pattern is another way to create an object with private and public members, but instead of using a factory function capable of making multiple instances of the object, it uses an IIFE."
   ]
  },
  {
   "cell_type": "code",
   "execution_count": 3,
   "metadata": {},
   "outputs": [
    {
     "name": "stdout",
     "output_type": "stream",
     "text": [
      "314\n"
     ]
    }
   ],
   "source": [
    "const math = (function () {\n",
    "\t//private variable\n",
    "\tconst _pi = 3.14;\n",
    " \n",
    "\t//private methods\n",
    "\tconst _multiply = function (acc, ...args) {\n",
    "\t return args.reduce((acc, x) => acc * x, acc);\n",
    "\t};\n",
    " \n",
    "\tconst _power = function (base, ...exponents) {\n",
    "\t return base ** _multiply(...exponents);\n",
    "\t};\n",
    " \n",
    "\t//public method\n",
    "\tconst areaOfCircle = function (r) {\n",
    "\t return _power(r, 2) * _pi;\n",
    "\t};\n",
    " \n",
    "\t// we return an object composed of only our public methods\n",
    "\treturn { areaOfCircle };\n",
    " })();\n",
    "\n",
    " console.log(math.areaOfCircle(10));"
   ]
  },
  {
   "cell_type": "markdown",
   "metadata": {},
   "source": [
    "## **Describe IIFE. What does it stand for?**\n",
    "\n",
    "IIFE stands for Immediately Invoked Function Expression, which are just function expressions wrapped inside of parenthesis followed by another pair of parenthesis to immediately call them.\n",
    "\n",
    "Their advantage is that they create a new scope allowing us to use closure."
   ]
  },
  {
   "cell_type": "code",
   "execution_count": 4,
   "metadata": {},
   "outputs": [],
   "source": [
    "(function () {})();"
   ]
  },
  {
   "cell_type": "markdown",
   "metadata": {},
   "source": [
    "## **Briefly explain namespacing and how it’s useful.**\n",
    "\n",
    "Using modules as namespaces we can avoid name conflicts and keep the global namespace clean."
   ]
  },
  {
   "cell_type": "code",
   "execution_count": 5,
   "metadata": {},
   "outputs": [
    {
     "name": "stdout",
     "output_type": "stream",
     "text": [
      "20\n",
      "the element was added to the DOM\n"
     ]
    }
   ],
   "source": [
    "// dummy document object to make DOM_API \"\"work\"\"\n",
    "const document = {\n",
    "\tbody : {\n",
    "\t\tappendChild : () => {}\n",
    "\t},\n",
    "\tcreateElement : () => {}\n",
    "}\n",
    "\n",
    "const calculator = (function () {\n",
    "\tconst add = function (...args) {\n",
    "\t\treturn args.reduce((acc, x) => acc + x);\n",
    "\t};\n",
    "\n",
    "\tconst subtract = function (...args) {\n",
    "\t\treturn args.reduce((acc, x) => acc - x);\n",
    "\t};\n",
    "\n",
    "\tconst multiply = function (acc, ...args) {\n",
    "\t\treturn args.reduce((acc, x) => acc * x, acc);\n",
    "\t};\n",
    "\n",
    "\tconst divide = function (acc, ...args) {\n",
    "\t\treturn args.reduce((acc, x) => acc / x, acc);\n",
    "\t};\n",
    "\n",
    "\tconst power = function (base, ...exponents) {\n",
    "\t\treturn base ** multiply(...exponents);\n",
    "\t};\n",
    "\n",
    "\treturn { add, subtract, multiply, divide, power };\n",
    "})();\n",
    " \n",
    " const DOM_API = (function (DOMElem) {\n",
    "\tconst add = function (node) {\n",
    "\t DOMElem.appendChild(node);\n",
    "\t console.log('the element was added to the DOM');\n",
    "\t};\n",
    "\treturn { add };\n",
    " })(document.body);\n",
    " \n",
    " console.log(calculator.add(1, 6, 13)); //20\n",
    " DOM_API.add(document.createElement('div'));\n",
    " // calculator.add() and DOM_API.add() are two separate functions that\n",
    " // don't clash with each other"
   ]
  }
 ],
 "metadata": {
  "kernelspec": {
   "display_name": "JavaScript (Node.js)",
   "language": "javascript",
   "name": "javascript"
  },
  "language_info": {
   "file_extension": ".js",
   "mimetype": "application/javascript",
   "name": "javascript",
   "version": "16.16.0"
  },
  "orig_nbformat": 4
 },
 "nbformat": 4,
 "nbformat_minor": 2
}
