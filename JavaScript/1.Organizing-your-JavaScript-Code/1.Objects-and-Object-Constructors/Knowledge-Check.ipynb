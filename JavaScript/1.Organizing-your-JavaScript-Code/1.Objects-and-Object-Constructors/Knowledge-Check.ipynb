{
 "cells": [
  {
   "cell_type": "markdown",
   "metadata": {},
   "source": [
    "## **Write an object constructor and instantiate the object.**"
   ]
  },
  {
   "cell_type": "code",
   "execution_count": 1,
   "metadata": {},
   "outputs": [
    {
     "name": "stdout",
     "output_type": "stream",
     "text": [
      "Book { title: 'Harry Potter' }\n"
     ]
    }
   ],
   "source": [
    "function Book(title) {\n",
    "\tthis.title = title;\n",
    " }\n",
    " \n",
    " const harryPotter = new Book('Harry Potter');\n",
    "\n",
    " console.log(harryPotter);"
   ]
  },
  {
   "cell_type": "markdown",
   "metadata": {},
   "source": [
    "## **Describe what a prototype is and how it can be used.**\n",
    "\n",
    "A prototype is an object another object inherits it's properties from. Every object has a `[[Prototype]]` property which can be either null or point to one and only one object. Prototypes are the way inheritance is implemented in JavaScript."
   ]
  },
  {
   "cell_type": "markdown",
   "metadata": {},
   "source": [
    "## **Explain prototypal inheritance.**\n",
    "\n",
    "When assigning an object as another object's prototype, it inherits all of its properties and methods, because when a property is accessed on the object, JavaScript first searches for the property inside the object itself, if it isn't found it is searched for in the object's prototype, and then in the prototype's prototype, and so on..."
   ]
  },
  {
   "cell_type": "markdown",
   "metadata": {},
   "source": [
    "## **Understand the basic do’s and don’t’s of prototypical inheritance.**\n",
    "\n",
    "The best way to assign a prototype to an object is to use the `Object.create()` method, because this will give the object a separate copy of the prototype, and it makes it so that multiple objects with the same prototype can not interfere with each other's prototype.\n",
    "\n",
    "If we assigned the prototype directly to two different objects, any change made to the prototype of one object would also reflect on the other object."
   ]
  },
  {
   "cell_type": "markdown",
   "metadata": {},
   "source": [
    "## **Explain what Object.create does**\n",
    "\n",
    "`Object.create()` creates a new object using an existing object as the prototype."
   ]
  },
  {
   "cell_type": "markdown",
   "metadata": {},
   "source": [
    "## **How does this behave in different situations?**\n",
    "\n",
    "_Because the function invocation has the biggest impact on this, from now on do not ask yourself:\n",
    "Where is this taken from?\n",
    "but do ask yourself:\n",
    "How is the function invoked?\n",
    "For an arrow function ask yourself:\n",
    "What is this inside the outer function where the arrow function is defined?\n",
    "This mindset is correct when dealing with this and will save you from the headache._\n",
    "\n",
    "This points to the current context.\n",
    "\n",
    "- Function calls and any function or method passed as an argument to another function by default use the global object (window in browsers) as their context.\n",
    "- Methods use the object the method is called from as the context.\n",
    "- The `new` keyword preceding constructors in objects declarations creates a new object for the constructor to use as the context.\n",
    "- Function.prototype's methods such as `Function.prototype.call()` and `Function.prototype.apply()` call the function by explicitly giving it a set context, while `Function.prototype.bind()` returns a new function whose context is always going to be the one passed as an argument, and cannot be changed.\n",
    "- Arrow functions automatically bind themselves to the current context, so `() => {...}` is equivalent to `(function () {...}).bind(this)`."
   ]
  }
 ],
 "metadata": {
  "kernelspec": {
   "display_name": "JavaScript (Node.js)",
   "language": "javascript",
   "name": "javascript"
  },
  "language_info": {
   "file_extension": ".js",
   "mimetype": "application/javascript",
   "name": "javascript",
   "version": "16.16.0"
  },
  "orig_nbformat": 4
 },
 "nbformat": 4,
 "nbformat_minor": 2
}
